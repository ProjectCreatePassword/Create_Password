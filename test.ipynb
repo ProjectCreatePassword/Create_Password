{
 "cells": [
  {
   "cell_type": "code",
   "execution_count": 2,
   "metadata": {},
   "outputs": [
    {
     "name": "stdout",
     "output_type": "stream",
     "text": [
      "3\n",
      "9\n",
      "7\n",
      "2\n",
      "4\n"
     ]
    }
   ],
   "source": [
    "import random\n",
    "\n",
    "# Generer 5 numeros aleatoires entre 1 et 10\n",
    "for _ in range(5):\n",
    "    x = random.randint(1, 10)\n",
    "    print(x)"
   ]
  },
  {
   "cell_type": "code",
   "execution_count": 10,
   "metadata": {},
   "outputs": [
    {
     "data": {
      "text/plain": [
       "(str, str, int, str)"
      ]
     },
     "execution_count": 10,
     "metadata": {},
     "output_type": "execute_result"
    }
   ],
   "source": [
    "type(\"Toto\"), type(str(\"Toto2\")), type(3), type(\"3\")"
   ]
  },
  {
   "cell_type": "code",
   "execution_count": 11,
   "metadata": {},
   "outputs": [
    {
     "name": "stdout",
     "output_type": "stream",
     "text": [
      "T\n",
      "o\n",
      "t\n",
      "o\n"
     ]
    }
   ],
   "source": [
    "for letter in \"Toto\":\n",
    "    print(letter)"
   ]
  },
  {
   "cell_type": "code",
   "execution_count": 7,
   "metadata": {},
   "outputs": [
    {
     "data": {
      "text/plain": [
       "['t', 'o', 'o']"
      ]
     },
     "execution_count": 7,
     "metadata": {},
     "output_type": "execute_result"
    }
   ],
   "source": [
    "random.choices(\"Toto\", k=3)"
   ]
  },
  {
   "cell_type": "code",
   "execution_count": 17,
   "metadata": {},
   "outputs": [
    {
     "data": {
      "text/plain": [
       "'!q.,A67?C+'"
      ]
     },
     "execution_count": 17,
     "metadata": {},
     "output_type": "execute_result"
    }
   ],
   "source": [
    "import string\n",
    "import random\n",
    "\n",
    "def generate(longeur=8):\n",
    "    caracteres = string.ascii_letters + string.digits + string.punctuation\n",
    "    return \"\".join(random.choices(caracteres, k=longeur))\n",
    "\n",
    "mdp = generate(longeur=10)\n",
    "mdp"
   ]
  },
  {
   "cell_type": "code",
   "execution_count": 42,
   "metadata": {},
   "outputs": [],
   "source": [
    "def verifier_mdp(mdp):\n",
    "    \"\"\"Verifie les conditions acceptables pour un mot de passe.\n",
    "    \n",
    "        ● Il doit contenir au moins 8 caractères.\n",
    "        ● Il doit contenir au moins une lettre majuscule.\n",
    "        ● Il doit contenir au moins une lettre minuscule.\n",
    "        ● Il doit contenir au moins un chiffre.\n",
    "        ● Il doit contenir au moins un caractère spécial ( ! , @, #, $, %, ^, & , *).\n",
    "    \"\"\"\n",
    "    if len(mdp) < 8:\n",
    "        print('Le mot de passe doit contenirau moins 8 caractères')\n",
    "        return False\n",
    "    \n",
    "    # Au moins une majuscule\n",
    "    num_minuscule = 0\n",
    "    num_majuscule = 0\n",
    "    num_chiffres = 0\n",
    "    num_special = 0 \n",
    "    for character in mdp:\n",
    "        if character in string.ascii_uppercase :\n",
    "            num_majuscule = num_majuscule + 1\n",
    "        if character in string.ascii_lowercase:\n",
    "            num_minuscule +=1\n",
    "        if character in string.digits:\n",
    "            num_chiffres +=1\n",
    "        if character in string.punctuation:\n",
    "            num_special +=1\n",
    "    if  num_majuscule == 0:\n",
    "        print('ERREUR : Le mot de passe doit contenir au moins une majuscule ')\n",
    "        return False\n",
    "    if num_minuscule == 0:\n",
    "        print('ERROR: Le mot de passe doit contenir au moins une minuscule')\n",
    "        return False\n",
    "    if num_special == 0:\n",
    "        print(\"ERROR: Le mot de passe doit contenir au moins 1 caractère spécial !!! \")\n",
    "        return False\n",
    "    return True\n",
    "    \n",
    "\n",
    "\n",
    "while True:\n",
    "    mdp = input(\"Ecrivez un mdp : \")\n",
    "    if verifier_mdp(mdp):\n",
    "        print(\"Success\")\n",
    "        break"
   ]
  }
 ],
 "metadata": {
  "kernelspec": {
   "display_name": "Python 3",
   "language": "python",
   "name": "python3"
  },
  "language_info": {
   "codemirror_mode": {
    "name": "ipython",
    "version": 3
   },
   "file_extension": ".py",
   "mimetype": "text/x-python",
   "name": "python",
   "nbconvert_exporter": "python",
   "pygments_lexer": "ipython3",
   "version": "3.12.2"
  }
 },
 "nbformat": 4,
 "nbformat_minor": 2
}
